{
 "cells": [
  {
   "cell_type": "markdown",
   "metadata": {},
   "source": [
    "# Noise Reduction using CNN-Autoencoder"
   ]
  },
  {
   "cell_type": "code",
   "execution_count": 1,
   "metadata": {},
   "outputs": [
    {
     "name": "stderr",
     "output_type": "stream",
     "text": [
      "Using TensorFlow backend.\n"
     ]
    }
   ],
   "source": [
    "import numpy as np\n",
    "\n",
    "import keras\n",
    "from keras.layers import Input, Dense, Conv2D, MaxPooling2D, UpSampling2D\n",
    "from keras.models import Model\n",
    "from sklearn.model_selection import train_test_split\n",
    "\n",
    "import matplotlib.pyplot as plt\n",
    "%matplotlib inline"
   ]
  },
  {
   "cell_type": "markdown",
   "metadata": {},
   "source": [
    "### Load and Preprocess Data & Autoencoder"
   ]
  },
  {
   "cell_type": "code",
   "execution_count": 2,
   "metadata": {},
   "outputs": [],
   "source": [
    "(X_train, _), (X_test, _) = keras.datasets.mnist.load_data()"
   ]
  },
  {
   "cell_type": "code",
   "execution_count": 3,
   "metadata": {},
   "outputs": [
    {
     "data": {
      "text/plain": [
       "(60000, 28, 28)"
      ]
     },
     "execution_count": 3,
     "metadata": {},
     "output_type": "execute_result"
    }
   ],
   "source": [
    "X_train.shape"
   ]
  },
  {
   "cell_type": "code",
   "execution_count": 4,
   "metadata": {},
   "outputs": [
    {
     "data": {
      "text/plain": [
       "(10000, 28, 28)"
      ]
     },
     "execution_count": 4,
     "metadata": {},
     "output_type": "execute_result"
    }
   ],
   "source": [
    "X_test.shape"
   ]
  },
  {
   "cell_type": "code",
   "execution_count": 5,
   "metadata": {},
   "outputs": [
    {
     "data": {
      "image/png": "[encoded data removed]",
      "text/plain": [
       "<Figure size 720x360 with 10 Axes>"
      ]
     },
     "metadata": {},
     "output_type": "display_data"
    }
   ],
   "source": [
    "plt.figure(figsize=(10, 5))\n",
    "for i in range(10):\n",
    "    plt.subplot(1, 10, i+1)\n",
    "    plt.imshow(X_train[i], cmap='gray')\n",
    "    plt.xticks([])\n",
    "    plt.yticks([])\n",
    "plt.show()"
   ]
  },
  {
   "cell_type": "code",
   "execution_count": 6,
   "metadata": {},
   "outputs": [],
   "source": [
    "inputs  = Input(shape=(784,))             \n",
    "enc_fc  = Dense( 32, activation='relu')   \n",
    "encoded = enc_fc(inputs)\n",
    "dec_fc  = Dense(784, activation='sigmoid') \n",
    "decoded = dec_fc(encoded)\n",
    "autoencoder = Model(inputs, decoded)\n",
    "autoencoder.compile(optimizer='adam', loss='binary_crossentropy')"
   ]
  },
  {
   "cell_type": "code",
   "execution_count": 7,
   "metadata": {},
   "outputs": [],
   "source": [
    "def preprocess(x):\n",
    "    x = x.astype('float32') / 255.\n",
    "    return x.reshape(-1, np.prod(x.shape[1:])) \n",
    "\n",
    "X_train = preprocess(X_train)\n",
    "X_test  = preprocess(X_test)\n",
    "X_train, X_valid = train_test_split(X_train, test_size=500)\n"
   ]
  },
  {
   "cell_type": "code",
   "execution_count": 8,
   "metadata": {},
   "outputs": [
    {
     "name": "stdout",
     "output_type": "stream",
     "text": [
      "Train on 59500 samples, validate on 500 samples\n",
      "Epoch 1/42\n",
      "59500/59500 [==============================] - 6s 98us/step - loss: 0.2814 - val_loss: 0.1974\n",
      "Epoch 2/42\n",
      "59500/59500 [==============================] - 5s 89us/step - loss: 0.1725 - val_loss: 0.1578\n",
      "Epoch 3/42\n",
      "59500/59500 [==============================] - 5s 89us/step - loss: 0.1457 - val_loss: 0.1383\n",
      "Epoch 4/42\n",
      "59500/59500 [==============================] - 6s 96us/step - loss: 0.1299 - val_loss: 0.1250\n",
      "Epoch 5/42\n",
      "59500/59500 [==============================] - 5s 92us/step - loss: 0.1188 - val_loss: 0.1156\n",
      "Epoch 6/42\n",
      "59500/59500 [==============================] - 5s 92us/step - loss: 0.1111 - val_loss: 0.1091\n",
      "Epoch 7/42\n",
      "59500/59500 [==============================] - 7s 116us/step - loss: 0.1059 - val_loss: 0.1048\n",
      "Epoch 8/42\n",
      "59500/59500 [==============================] - 6s 102us/step - loss: 0.1021 - val_loss: 0.1013\n",
      "Epoch 9/42\n",
      "59500/59500 [==============================] - 6s 95us/step - loss: 0.0995 - val_loss: 0.0992\n",
      "Epoch 10/42\n",
      "59500/59500 [==============================] - 5s 91us/step - loss: 0.0976 - val_loss: 0.0977\n",
      "Epoch 11/42\n",
      "59500/59500 [==============================] - 6s 96us/step - loss: 0.0964 - val_loss: 0.0966\n",
      "Epoch 12/42\n",
      "59500/59500 [==============================] - 6s 93us/step - loss: 0.0956 - val_loss: 0.0959\n",
      "Epoch 13/42\n",
      "59500/59500 [==============================] - 6s 96us/step - loss: 0.0950 - val_loss: 0.0956\n",
      "Epoch 14/42\n",
      "59500/59500 [==============================] - 7s 111us/step - loss: 0.0946 - val_loss: 0.0952\n",
      "Epoch 15/42\n",
      "59500/59500 [==============================] - 6s 96us/step - loss: 0.0943 - val_loss: 0.0950\n",
      "Epoch 16/42\n",
      "59500/59500 [==============================] - 6s 97us/step - loss: 0.0941 - val_loss: 0.0948\n",
      "Epoch 17/42\n",
      "59500/59500 [==============================] - 6s 101us/step - loss: 0.0939 - val_loss: 0.0947\n",
      "Epoch 18/42\n",
      "59500/59500 [==============================] - 6s 98us/step - loss: 0.0938 - val_loss: 0.0945\n",
      "Epoch 19/42\n",
      "59500/59500 [==============================] - 7s 112us/step - loss: 0.0936 - val_loss: 0.0943\n",
      "Epoch 20/42\n",
      "59500/59500 [==============================] - 6s 104us/step - loss: 0.0935 - val_loss: 0.0943\n",
      "Epoch 21/42\n",
      "59500/59500 [==============================] - 5s 92us/step - loss: 0.0935 - val_loss: 0.0943\n",
      "Epoch 22/42\n",
      "59500/59500 [==============================] - 6s 93us/step - loss: 0.0934 - val_loss: 0.0943\n",
      "Epoch 23/42\n",
      "59500/59500 [==============================] - 6s 93us/step - loss: 0.0933 - val_loss: 0.0941\n",
      "Epoch 24/42\n",
      "59500/59500 [==============================] - 6s 95us/step - loss: 0.0932 - val_loss: 0.0940\n",
      "Epoch 25/42\n",
      "59500/59500 [==============================] - 6s 95us/step - loss: 0.0932 - val_loss: 0.0939\n",
      "Epoch 26/42\n",
      "59500/59500 [==============================] - 6s 96us/step - loss: 0.0931 - val_loss: 0.0939\n",
      "Epoch 27/42\n",
      "59500/59500 [==============================] - 6s 95us/step - loss: 0.0931 - val_loss: 0.0939\n",
      "Epoch 28/42\n",
      "59500/59500 [==============================] - 6s 99us/step - loss: 0.0930 - val_loss: 0.0939\n",
      "Epoch 29/42\n",
      "59500/59500 [==============================] - 6s 97us/step - loss: 0.0930 - val_loss: 0.0939\n",
      "Epoch 30/42\n",
      "59500/59500 [==============================] - 6s 97us/step - loss: 0.0930 - val_loss: 0.0938\n",
      "Epoch 31/42\n",
      "59500/59500 [==============================] - 6s 99us/step - loss: 0.0930 - val_loss: 0.0938\n",
      "Epoch 32/42\n",
      "59500/59500 [==============================] - 6s 99us/step - loss: 0.0929 - val_loss: 0.0938\n",
      "Epoch 33/42\n",
      "59500/59500 [==============================] - 6s 101us/step - loss: 0.0929 - val_loss: 0.0938\n",
      "Epoch 34/42\n",
      "59500/59500 [==============================] - 6s 99us/step - loss: 0.0929 - val_loss: 0.0937\n",
      "Epoch 35/42\n",
      "59500/59500 [==============================] - 6s 101us/step - loss: 0.0928 - val_loss: 0.0937\n",
      "Epoch 36/42\n",
      "59500/59500 [==============================] - 6s 101us/step - loss: 0.0928 - val_loss: 0.0937\n",
      "Epoch 37/42\n",
      "59500/59500 [==============================] - 6s 101us/step - loss: 0.0928 - val_loss: 0.0936\n",
      "Epoch 38/42\n",
      "59500/59500 [==============================] - 6s 102us/step - loss: 0.0928 - val_loss: 0.0937\n",
      "Epoch 39/42\n",
      "59500/59500 [==============================] - 6s 101us/step - loss: 0.0928 - val_loss: 0.0937\n",
      "Epoch 40/42\n",
      "59500/59500 [==============================] - 6s 101us/step - loss: 0.0927 - val_loss: 0.0937\n",
      "Epoch 41/42\n",
      "59500/59500 [==============================] - 6s 101us/step - loss: 0.0927 - val_loss: 0.0937\n",
      "Epoch 42/42\n",
      "59500/59500 [==============================] - 6s 102us/step - loss: 0.0927 - val_loss: 0.0937\n"
     ]
    },
    {
     "data": {
      "text/plain": [
       "<keras.callbacks.History at 0x7fe9d23b45c0>"
      ]
     },
     "execution_count": 8,
     "metadata": {},
     "output_type": "execute_result"
    }
   ],
   "source": [
    "autoencoder.fit(X_train, X_train, epochs=42, batch_size=256, validation_data=(X_valid, X_valid))"
   ]
  },
  {
   "cell_type": "code",
   "execution_count": 9,
   "metadata": {},
   "outputs": [],
   "source": [
    "encoder = Model(inputs, encoded)\n",
    "X_test_encoded = encoder.predict(X_test)\n",
    "decoder_inputs = Input(shape=(32,))\n",
    "decoder = Model(decoder_inputs, dec_fc(decoder_inputs))\n",
    "X_test_decoded = decoder.predict(X_test_encoded)"
   ]
  },
  {
   "cell_type": "code",
   "execution_count": 10,
   "metadata": {},
   "outputs": [
    {
     "data": {
      "image/png": "[encoded data removed]",
      "text/plain": [
       "<Figure size 720x144 with 20 Axes>"
      ]
     },
     "metadata": {},
     "output_type": "display_data"
    }
   ],
   "source": [
    "def show_images(before_images, after_images):\n",
    "    plt.figure(figsize=(10, 2))\n",
    "    for i in range(10):\n",
    "        # before\n",
    "        plt.subplot(2, 10, i+1)\n",
    "        plt.imshow(before_images[i].reshape(28, 28), cmap='gray')\n",
    "        plt.xticks([])\n",
    "        plt.yticks([])\n",
    "        # after\n",
    "        plt.subplot(2, 10, 10+i+1)\n",
    "        plt.imshow(after_images[i].reshape(28, 28), cmap='gray')\n",
    "        plt.xticks([])\n",
    "        plt.yticks([])\n",
    "    plt.show()\n",
    "    \n",
    "show_images(X_test, X_test_decoded)"
   ]
  },
  {
   "cell_type": "markdown",
   "metadata": {},
   "source": [
    "### CNN Autoencoder"
   ]
  },
  {
   "cell_type": "code",
   "execution_count": 11,
   "metadata": {
    "scrolled": false
   },
   "outputs": [
    {
     "name": "stdout",
     "output_type": "stream",
     "text": [
      "_________________________________________________________________\n",
      "Layer (type)                 Output Shape              Param #   \n",
      "=================================================================\n",
      "input_3 (InputLayer)         (None, 28, 28, 1)         0         \n",
      "_________________________________________________________________\n",
      "conv2d_1 (Conv2D)            (None, 28, 28, 16)        160       \n",
      "_________________________________________________________________\n",
      "max_pooling2d_1 (MaxPooling2 (None, 14, 14, 16)        0         \n",
      "_________________________________________________________________\n",
      "conv2d_2 (Conv2D)            (None, 14, 14, 8)         1160      \n",
      "_________________________________________________________________\n",
      "max_pooling2d_2 (MaxPooling2 (None, 7, 7, 8)           0         \n",
      "_________________________________________________________________\n",
      "conv2d_3 (Conv2D)            (None, 7, 7, 8)           584       \n",
      "_________________________________________________________________\n",
      "max_pooling2d_3 (MaxPooling2 (None, 4, 4, 8)           0         \n",
      "_________________________________________________________________\n",
      "conv2d_4 (Conv2D)            (None, 4, 4, 8)           584       \n",
      "_________________________________________________________________\n",
      "up_sampling2d_1 (UpSampling2 (None, 8, 8, 8)           0         \n",
      "_________________________________________________________________\n",
      "conv2d_5 (Conv2D)            (None, 8, 8, 8)           584       \n",
      "_________________________________________________________________\n",
      "up_sampling2d_2 (UpSampling2 (None, 16, 16, 8)         0         \n",
      "_________________________________________________________________\n",
      "conv2d_6 (Conv2D)            (None, 14, 14, 16)        1168      \n",
      "_________________________________________________________________\n",
      "up_sampling2d_3 (UpSampling2 (None, 28, 28, 16)        0         \n",
      "_________________________________________________________________\n",
      "conv2d_7 (Conv2D)            (None, 28, 28, 1)         145       \n",
      "=================================================================\n",
      "Total params: 4,385\n",
      "Trainable params: 4,385\n",
      "Non-trainable params: 0\n",
      "_________________________________________________________________\n"
     ]
    }
   ],
   "source": [
    "def make_convolutional_autoencoder():\n",
    "    # encoding\n",
    "    inputs = Input(shape=(28, 28, 1))\n",
    "    x = Conv2D(16, 3, activation='relu', padding='same')(inputs)\n",
    "    x = MaxPooling2D(padding='same')(x)\n",
    "    x = Conv2D( 8, 3, activation='relu', padding='same')(x)\n",
    "    x = MaxPooling2D(padding='same')(x)\n",
    "    x = Conv2D( 8, 3, activation='relu', padding='same')(x)\n",
    "    encoded = MaxPooling2D(padding='same')(x)    \n",
    "    \n",
    "    # decoding\n",
    "    x = Conv2D( 8, 3, activation='relu', padding='same')(encoded)\n",
    "    x = UpSampling2D()(x)\n",
    "    x = Conv2D( 8, 3, activation='relu', padding='same')(x)\n",
    "    x = UpSampling2D()(x)\n",
    "    x = Conv2D(16, 3, activation='relu')(x) \n",
    "    x = UpSampling2D()(x)\n",
    "    decoded = Conv2D(1, 3, activation='sigmoid', padding='same')(x)    \n",
    "    \n",
    "    # autoencoder\n",
    "    autoencoder = Model(inputs, decoded)\n",
    "    autoencoder.compile(optimizer='adam', loss='binary_crossentropy')\n",
    "    return autoencoder\n",
    "\n",
    "\n",
    "autoencoder = make_convolutional_autoencoder()\n",
    "\n",
    "autoencoder.summary()"
   ]
  },
  {
   "cell_type": "code",
   "execution_count": 12,
   "metadata": {},
   "outputs": [
    {
     "name": "stdout",
     "output_type": "stream",
     "text": [
      "Train on 59500 samples, validate on 500 samples\n",
      "Epoch 1/42\n",
      "59500/59500 [==============================] - 68s 1ms/step - loss: 0.2998 - val_loss: 0.1751\n",
      "Epoch 2/42\n",
      "59500/59500 [==============================] - 61s 1ms/step - loss: 0.1536 - val_loss: 0.1410\n",
      "Epoch 3/42\n",
      "59500/59500 [==============================] - 61s 1ms/step - loss: 0.1331 - val_loss: 0.1297\n",
      "Epoch 4/42\n",
      "59500/59500 [==============================] - 62s 1ms/step - loss: 0.1251 - val_loss: 0.1236\n",
      "Epoch 5/42\n",
      "59500/59500 [==============================] - 62s 1ms/step - loss: 0.1205 - val_loss: 0.1205\n",
      "Epoch 6/42\n",
      "59500/59500 [==============================] - 62s 1ms/step - loss: 0.1173 - val_loss: 0.1174\n",
      "Epoch 7/42\n",
      "59500/59500 [==============================] - 62s 1ms/step - loss: 0.1147 - val_loss: 0.1148\n",
      "Epoch 8/42\n",
      "59500/59500 [==============================] - 63s 1ms/step - loss: 0.1125 - val_loss: 0.1127\n",
      "Epoch 9/42\n",
      "59500/59500 [==============================] - 63s 1ms/step - loss: 0.1107 - val_loss: 0.1109\n",
      "Epoch 10/42\n",
      "59500/59500 [==============================] - 63s 1ms/step - loss: 0.1091 - val_loss: 0.1096\n",
      "Epoch 11/42\n",
      "59500/59500 [==============================] - 63s 1ms/step - loss: 0.1079 - val_loss: 0.1083\n",
      "Epoch 12/42\n",
      "59500/59500 [==============================] - 64s 1ms/step - loss: 0.1069 - val_loss: 0.1080\n",
      "Epoch 13/42\n",
      "59500/59500 [==============================] - 62s 1ms/step - loss: 0.1059 - val_loss: 0.1062\n",
      "Epoch 14/42\n",
      "59500/59500 [==============================] - 63s 1ms/step - loss: 0.1052 - val_loss: 0.1057\n",
      "Epoch 15/42\n",
      "59500/59500 [==============================] - 62s 1ms/step - loss: 0.1044 - val_loss: 0.1049\n",
      "Epoch 16/42\n",
      "59500/59500 [==============================] - 62s 1ms/step - loss: 0.1038 - val_loss: 0.1042\n",
      "Epoch 17/42\n",
      "59500/59500 [==============================] - 62s 1ms/step - loss: 0.1033 - val_loss: 0.1037\n",
      "Epoch 18/42\n",
      "59500/59500 [==============================] - 62s 1ms/step - loss: 0.1027 - val_loss: 0.1033\n",
      "Epoch 19/42\n",
      "59500/59500 [==============================] - 63s 1ms/step - loss: 0.1022 - val_loss: 0.1025\n",
      "Epoch 20/42\n",
      "59500/59500 [==============================] - 62s 1ms/step - loss: 0.1018 - val_loss: 0.1026\n",
      "Epoch 21/42\n",
      "59500/59500 [==============================] - 62s 1ms/step - loss: 0.1013 - val_loss: 0.1017\n",
      "Epoch 22/42\n",
      "59500/59500 [==============================] - 62s 1ms/step - loss: 0.1010 - val_loss: 0.1012\n",
      "Epoch 23/42\n",
      "59500/59500 [==============================] - 62s 1ms/step - loss: 0.1006 - val_loss: 0.1013\n",
      "Epoch 24/42\n",
      "59500/59500 [==============================] - 65s 1ms/step - loss: 0.1003 - val_loss: 0.1008\n",
      "Epoch 25/42\n",
      "59500/59500 [==============================] - 62s 1ms/step - loss: 0.1000 - val_loss: 0.1003\n",
      "Epoch 26/42\n",
      "59500/59500 [==============================] - 63s 1ms/step - loss: 0.0996 - val_loss: 0.0998\n",
      "Epoch 27/42\n",
      "59500/59500 [==============================] - 62s 1ms/step - loss: 0.0993 - val_loss: 0.0998\n",
      "Epoch 28/42\n",
      "59500/59500 [==============================] - 63s 1ms/step - loss: 0.0990 - val_loss: 0.0992\n",
      "Epoch 29/42\n",
      "59500/59500 [==============================] - 62s 1ms/step - loss: 0.0989 - val_loss: 0.0995\n",
      "Epoch 30/42\n",
      "59500/59500 [==============================] - 62s 1ms/step - loss: 0.0986 - val_loss: 0.0988\n",
      "Epoch 31/42\n",
      "59500/59500 [==============================] - 62s 1ms/step - loss: 0.0984 - val_loss: 0.0985\n",
      "Epoch 32/42\n",
      "59500/59500 [==============================] - 62s 1ms/step - loss: 0.0981 - val_loss: 0.0984\n",
      "Epoch 33/42\n",
      "59500/59500 [==============================] - 63s 1ms/step - loss: 0.0979 - val_loss: 0.0985\n",
      "Epoch 34/42\n",
      "59500/59500 [==============================] - 63s 1ms/step - loss: 0.0977 - val_loss: 0.0982\n",
      "Epoch 35/42\n",
      "59500/59500 [==============================] - 62s 1ms/step - loss: 0.0975 - val_loss: 0.0979\n",
      "Epoch 36/42\n",
      "59500/59500 [==============================] - 63s 1ms/step - loss: 0.0973 - val_loss: 0.0975\n",
      "Epoch 37/42\n",
      "59500/59500 [==============================] - 62s 1ms/step - loss: 0.0971 - val_loss: 0.0974\n",
      "Epoch 38/42\n",
      "59500/59500 [==============================] - 63s 1ms/step - loss: 0.0969 - val_loss: 0.0972\n",
      "Epoch 39/42\n",
      "59500/59500 [==============================] - 62s 1ms/step - loss: 0.0968 - val_loss: 0.0971\n",
      "Epoch 40/42\n",
      "59500/59500 [==============================] - 62s 1ms/step - loss: 0.0966 - val_loss: 0.0971\n",
      "Epoch 41/42\n",
      "59500/59500 [==============================] - 62s 1ms/step - loss: 0.0964 - val_loss: 0.0969\n",
      "Epoch 42/42\n",
      "59500/59500 [==============================] - 62s 1ms/step - loss: 0.0962 - val_loss: 0.0968\n"
     ]
    },
    {
     "data": {
      "image/png": "[encoded data removed]",
      "text/plain": [
       "<Figure size 720x144 with 20 Axes>"
      ]
     },
     "metadata": {},
     "output_type": "display_data"
    }
   ],
   "source": [
    "X_train = X_train.reshape(-1, 28, 28, 1)\n",
    "X_valid = X_valid.reshape(-1, 28, 28, 1)\n",
    "X_test  = X_test.reshape(-1, 28, 28, 1)\n",
    "\n",
    "autoencoder.fit(X_train, X_train, epochs=42, batch_size=256, validation_data=(X_valid, X_valid))\n",
    "X_test_decoded = autoencoder.predict(X_test)\n",
    "\n",
    "show_images(X_test, X_test_decoded)"
   ]
  },
  {
   "cell_type": "markdown",
   "metadata": {},
   "source": [
    "### Autoencoder with Noise"
   ]
  },
  {
   "cell_type": "code",
   "execution_count": 13,
   "metadata": {},
   "outputs": [
    {
     "name": "stdout",
     "output_type": "stream",
     "text": [
      "Train on 59500 samples, validate on 500 samples\n",
      "Epoch 1/42\n",
      "59500/59500 [==============================] - 63s 1ms/step - loss: 0.3091 - val_loss: 0.1963\n",
      "Epoch 2/42\n",
      "59500/59500 [==============================] - 66s 1ms/step - loss: 0.1752 - val_loss: 0.1614\n",
      "Epoch 3/42\n",
      "59500/59500 [==============================] - 62s 1ms/step - loss: 0.1531 - val_loss: 0.1473\n",
      "Epoch 4/42\n",
      "59500/59500 [==============================] - 61s 1ms/step - loss: 0.1423 - val_loss: 0.1390\n",
      "Epoch 5/42\n",
      "59500/59500 [==============================] - 62s 1ms/step - loss: 0.1342 - val_loss: 0.1317\n",
      "Epoch 6/42\n",
      "59500/59500 [==============================] - 61s 1ms/step - loss: 0.1281 - val_loss: 0.1265\n",
      "Epoch 7/42\n",
      "59500/59500 [==============================] - 62s 1ms/step - loss: 0.1238 - val_loss: 0.1228\n",
      "Epoch 8/42\n",
      "59500/59500 [==============================] - 61s 1ms/step - loss: 0.1208 - val_loss: 0.1205\n",
      "Epoch 9/42\n",
      "59500/59500 [==============================] - 61s 1ms/step - loss: 0.1187 - val_loss: 0.1184\n",
      "Epoch 10/42\n",
      "59500/59500 [==============================] - 62s 1ms/step - loss: 0.1169 - val_loss: 0.1169\n",
      "Epoch 11/42\n",
      "59500/59500 [==============================] - 61s 1ms/step - loss: 0.1156 - val_loss: 0.1158\n",
      "Epoch 12/42\n",
      "59500/59500 [==============================] - 62s 1ms/step - loss: 0.1145 - val_loss: 0.1148\n",
      "Epoch 13/42\n",
      "59500/59500 [==============================] - 61s 1ms/step - loss: 0.1135 - val_loss: 0.1139\n",
      "Epoch 14/42\n",
      "59500/59500 [==============================] - 62s 1ms/step - loss: 0.1126 - val_loss: 0.1135\n",
      "Epoch 15/42\n",
      "59500/59500 [==============================] - 62s 1ms/step - loss: 0.1119 - val_loss: 0.1125\n",
      "Epoch 16/42\n",
      "59500/59500 [==============================] - 62s 1ms/step - loss: 0.1112 - val_loss: 0.1116\n",
      "Epoch 17/42\n",
      "59500/59500 [==============================] - 62s 1ms/step - loss: 0.1105 - val_loss: 0.1111\n",
      "Epoch 18/42\n",
      "59500/59500 [==============================] - 62s 1ms/step - loss: 0.1100 - val_loss: 0.1111\n",
      "Epoch 19/42\n",
      "59500/59500 [==============================] - 62s 1ms/step - loss: 0.1094 - val_loss: 0.1099\n",
      "Epoch 20/42\n",
      "59500/59500 [==============================] - 63s 1ms/step - loss: 0.1089 - val_loss: 0.1096\n",
      "Epoch 21/42\n",
      "59500/59500 [==============================] - 62s 1ms/step - loss: 0.1085 - val_loss: 0.1090\n",
      "Epoch 22/42\n",
      "59500/59500 [==============================] - 62s 1ms/step - loss: 0.1080 - val_loss: 0.1093\n",
      "Epoch 23/42\n",
      "59500/59500 [==============================] - 72s 1ms/step - loss: 0.1076 - val_loss: 0.1083\n",
      "Epoch 24/42\n",
      "59500/59500 [==============================] - 69s 1ms/step - loss: 0.1072 - val_loss: 0.1079\n",
      "Epoch 25/42\n",
      "59500/59500 [==============================] - 61s 1ms/step - loss: 0.1069 - val_loss: 0.1075\n",
      "Epoch 26/42\n",
      "59500/59500 [==============================] - 62s 1ms/step - loss: 0.1066 - val_loss: 0.1073\n",
      "Epoch 27/42\n",
      "59500/59500 [==============================] - 62s 1ms/step - loss: 0.1063 - val_loss: 0.1076\n",
      "Epoch 28/42\n",
      "59500/59500 [==============================] - 62s 1ms/step - loss: 0.1060 - val_loss: 0.1083\n",
      "Epoch 29/42\n",
      "59500/59500 [==============================] - 62s 1ms/step - loss: 0.1057 - val_loss: 0.1064\n",
      "Epoch 30/42\n",
      "59500/59500 [==============================] - 62s 1ms/step - loss: 0.1056 - val_loss: 0.1062\n",
      "Epoch 31/42\n",
      "59500/59500 [==============================] - 62s 1ms/step - loss: 0.1052 - val_loss: 0.1060\n",
      "Epoch 32/42\n",
      "59500/59500 [==============================] - 62s 1ms/step - loss: 0.1050 - val_loss: 0.1062\n",
      "Epoch 33/42\n",
      "59500/59500 [==============================] - 62s 1ms/step - loss: 0.1048 - val_loss: 0.1056\n",
      "Epoch 34/42\n",
      "59500/59500 [==============================] - 62s 1ms/step - loss: 0.1047 - val_loss: 0.1053\n",
      "Epoch 35/42\n",
      "59500/59500 [==============================] - 62s 1ms/step - loss: 0.1045 - val_loss: 0.1051\n",
      "Epoch 36/42\n",
      "59500/59500 [==============================] - 62s 1ms/step - loss: 0.1043 - val_loss: 0.1050\n",
      "Epoch 37/42\n",
      "59500/59500 [==============================] - 62s 1ms/step - loss: 0.1041 - val_loss: 0.1048\n",
      "Epoch 38/42\n",
      "59500/59500 [==============================] - 62s 1ms/step - loss: 0.1039 - val_loss: 0.1050\n",
      "Epoch 39/42\n",
      "59500/59500 [==============================] - 63s 1ms/step - loss: 0.1037 - val_loss: 0.1045\n",
      "Epoch 40/42\n",
      "59500/59500 [==============================] - 62s 1ms/step - loss: 0.1035 - val_loss: 0.1042\n",
      "Epoch 41/42\n",
      "59500/59500 [==============================] - 62s 1ms/step - loss: 0.1035 - val_loss: 0.1043\n",
      "Epoch 42/42\n",
      "59500/59500 [==============================] - 62s 1ms/step - loss: 0.1033 - val_loss: 0.1042\n"
     ]
    },
    {
     "data": {
      "text/plain": [
       "<keras.callbacks.History at 0x7fe9b00607b8>"
      ]
     },
     "execution_count": 13,
     "metadata": {},
     "output_type": "execute_result"
    }
   ],
   "source": [
    "def add_noise(x, noise_factor=0.2):\n",
    "    x = x + np.random.randn(*x.shape) * noise_factor\n",
    "    x = x.clip(0., 1.)\n",
    "    return x\n",
    "    \n",
    "X_train_noisy = add_noise(X_train)\n",
    "X_valid_noisy = add_noise(X_valid)\n",
    "X_test_noisy  = add_noise(X_test)\n",
    "\n",
    "autoencoder = make_convolutional_autoencoder()\n",
    "autoencoder.fit(X_train_noisy, X_train, epochs=42, batch_size=256, validation_data=(X_valid_noisy, X_valid))"
   ]
  },
  {
   "cell_type": "code",
   "execution_count": 14,
   "metadata": {},
   "outputs": [
    {
     "data": {
      "image/png": "[encoded data removed]",
      "text/plain": [
       "<Figure size 720x144 with 20 Axes>"
      ]
     },
     "metadata": {},
     "output_type": "display_data"
    }
   ],
   "source": [
    "X_test_decoded = autoencoder.predict(X_test_noisy)\n",
    "\n",
    "show_images(X_test_noisy, X_test_decoded)"
   ]
  }
 ],
 "metadata": {
  "kernelspec": {
   "display_name": "Python 3",
   "language": "python",
   "name": "python3"
  },
  "language_info": {
   "codemirror_mode": {
    "name": "ipython",
    "version": 3
   },
   "file_extension": ".py",
   "mimetype": "text/x-python",
   "name": "python",
   "nbconvert_exporter": "python",
   "pygments_lexer": "ipython3",
   "version": "3.6.5"
  }
 },
 "nbformat": 4,
 "nbformat_minor": 2
}
