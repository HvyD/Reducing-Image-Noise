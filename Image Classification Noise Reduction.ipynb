{
 "cells": [
  {
   "cell_type": "markdown",
   "metadata": {},
   "source": [
    "# Reducing Image Classification Noise"
   ]
  },
  {
   "cell_type": "code",
   "execution_count": 1,
   "metadata": {},
   "outputs": [
    {
     "name": "stderr",
     "output_type": "stream",
     "text": [
      "Using TensorFlow backend.\n"
     ]
    }
   ],
   "source": [
    "import numpy as np \n",
    "import pandas as pd\n",
    "import h5py\n",
    "import cv2\n",
    "import math\n",
    "import os\n",
    "\n",
    "import tensorflow as tf\n",
    "from sklearn.model_selection import train_test_split\n",
    "from keras.utils import to_categorical\n",
    "from keras.models import Sequential, load_model, Model\n",
    "from keras.layers import Input, UpSampling2D\n",
    "from keras.layers.advanced_activations import PReLU, LeakyReLU\n",
    "from keras.layers import Dense, LSTM, GlobalAveragePooling1D, GlobalAveragePooling2D\n",
    "from keras.layers import Activation, Flatten, Dropout, BatchNormalization\n",
    "from keras.layers import Conv2D, MaxPooling2D, GlobalMaxPooling2D\n",
    "\n",
    "import matplotlib.pylab as plt\n",
    "from matplotlib import cm\n",
    "%matplotlib inline"
   ]
  },
  {
   "cell_type": "markdown",
   "metadata": {},
   "source": [
    "### Load Data and Preprocess"
   ]
  },
  {
   "cell_type": "code",
   "execution_count": 2,
   "metadata": {},
   "outputs": [],
   "source": [
    "data = pd.read_csv(\"data/letters.csv\")\n",
    "files = data['file']\n",
    "letters = data['letter']\n",
    "backgrounds = data['background']"
   ]
  },
  {
   "cell_type": "code",
   "execution_count": 3,
   "metadata": {},
   "outputs": [
    {
     "data": {
      "text/plain": [
       "['backgrounds', 'images', 'labels']"
      ]
     },
     "execution_count": 3,
     "metadata": {},
     "output_type": "execute_result"
    }
   ],
   "source": [
    "f = h5py.File('data/LetterColorImages.h5', 'r')\n",
    "\n",
    "# List all groups\n",
    "keys = list(f.keys())\n",
    "keys"
   ]
  },
  {
   "cell_type": "code",
   "execution_count": 4,
   "metadata": {},
   "outputs": [
    {
     "name": "stdout",
     "output_type": "stream",
     "text": [
      "Tensor shape: (1650, 32, 32, 3)\n",
      "Target shape (1650,)\n",
      "Background shape: (1650,)\n"
     ]
    }
   ],
   "source": [
    "backgrounds = np.array(f[keys[0]])\n",
    "tensors = np.array(f[keys[1]])\n",
    "targets = np.array(f[keys[2]])\n",
    "print ('Tensor shape:', tensors.shape)\n",
    "print ('Target shape', targets.shape)\n",
    "print ('Background shape:', backgrounds.shape)"
   ]
  },
  {
   "cell_type": "code",
   "execution_count": 5,
   "metadata": {},
   "outputs": [
    {
     "data": {
      "image/png": "[encoded data removed]",
      "text/plain": [
       "<Figure size 1296x216 with 5 Axes>"
      ]
     },
     "metadata": {},
     "output_type": "display_data"
    }
   ],
   "source": [
    "fig, ax = plt.subplots(figsize=(18, 3), nrows=1, ncols=5, sharex=True, sharey=True,)\n",
    "ax = ax.flatten()\n",
    "for i in range(5):\n",
    "    image = tensors[i*200]/255\n",
    "    ax[i].imshow(image)\n",
    "\n",
    "ax[0].set_xticks([])\n",
    "ax[0].set_yticks([])\n",
    "plt.tight_layout()\n",
    "plt.gcf()\n",
    "ax[2].set_title('Examples of Hand Written letters', fontsize=25);"
   ]
  },
  {
   "cell_type": "code",
   "execution_count": 6,
   "metadata": {},
   "outputs": [],
   "source": [
    "tensors = tensors.astype('float32')/255"
   ]
  },
  {
   "cell_type": "code",
   "execution_count": 7,
   "metadata": {},
   "outputs": [
    {
     "name": "stdout",
     "output_type": "stream",
     "text": [
      "Grayscaled Tensor shape: (1650, 32, 32, 1)\n"
     ]
    }
   ],
   "source": [
    "gray_tensors = np.dot(tensors[...,:3], [0.299, 0.587, 0.114])\n",
    "gray_tensors = gray_tensors.reshape(-1, 32, 32, 1)\n",
    "print ('Grayscaled Tensor shape:', gray_tensors.shape)"
   ]
  },
  {
   "cell_type": "code",
   "execution_count": 8,
   "metadata": {},
   "outputs": [
    {
     "data": {
      "text/plain": [
       "(1650, 33)"
      ]
     },
     "execution_count": 8,
     "metadata": {},
     "output_type": "execute_result"
    }
   ],
   "source": [
    "cat_targets = to_categorical(np.array(targets-1), 33)\n",
    "cat_targets.shape"
   ]
  },
  {
   "cell_type": "code",
   "execution_count": 9,
   "metadata": {},
   "outputs": [
    {
     "data": {
      "text/plain": [
       "(1650, 2)"
      ]
     },
     "execution_count": 9,
     "metadata": {},
     "output_type": "execute_result"
    }
   ],
   "source": [
    "backgrounds = to_categorical(backgrounds,2)\n",
    "backgrounds.shape"
   ]
  },
  {
   "cell_type": "code",
   "execution_count": 10,
   "metadata": {},
   "outputs": [
    {
     "data": {
      "text/plain": [
       "(1650, 35)"
      ]
     },
     "execution_count": 10,
     "metadata": {},
     "output_type": "execute_result"
    }
   ],
   "source": [
    "back_targets = np.concatenate((cat_targets, backgrounds), axis=1)\n",
    "back_targets.shape"
   ]
  },
  {
   "cell_type": "markdown",
   "metadata": {},
   "source": [
    "### Create and Train Model"
   ]
  },
  {
   "cell_type": "code",
   "execution_count": 11,
   "metadata": {},
   "outputs": [],
   "source": [
    "x_train, x_test, y_train, y_test = train_test_split(gray_tensors, cat_targets, \n",
    "                                                    test_size = 0.2, \n",
    "                                                    random_state = 1)\n",
    "\n",
    "n = int(len(x_test)/2)\n",
    "x_valid, y_valid = x_test[:n], y_test[:n]\n",
    "x_test, y_test = x_test[n:], y_test[n:]"
   ]
  },
  {
   "cell_type": "code",
   "execution_count": 12,
   "metadata": {},
   "outputs": [],
   "source": [
    "x_train2, x_test2, y_train2, y_test2 = train_test_split(gray_tensors, back_targets, \n",
    "                                                        test_size = 0.2, \n",
    "                                                        random_state = 1)\n",
    "n = int(len(x_test2)/2)\n",
    "x_valid2, y_valid2 = x_test2[:n], y_test2[:n]\n",
    "x_test2, y_test2 = x_test2[n:], y_test2[n:]"
   ]
  },
  {
   "cell_type": "code",
   "execution_count": 13,
   "metadata": {},
   "outputs": [
    {
     "name": "stdout",
     "output_type": "stream",
     "text": [
      "_________________________________________________________________\n",
      "Layer (type)                 Output Shape              Param #   \n",
      "=================================================================\n",
      "input_1 (InputLayer)         (None, 32, 32, 1)         0         \n",
      "_________________________________________________________________\n",
      "conv2d_1 (Conv2D)            (None, 32, 32, 32)        832       \n",
      "_________________________________________________________________\n",
      "leaky_re_lu_1 (LeakyReLU)    (None, 32, 32, 32)        0         \n",
      "_________________________________________________________________\n",
      "max_pooling2d_1 (MaxPooling2 (None, 16, 16, 32)        0         \n",
      "_________________________________________________________________\n",
      "conv2d_2 (Conv2D)            (None, 16, 16, 8)         6408      \n",
      "_________________________________________________________________\n",
      "leaky_re_lu_2 (LeakyReLU)    (None, 16, 16, 8)         0         \n",
      "_________________________________________________________________\n",
      "max_pooling2d_2 (MaxPooling2 (None, 8, 8, 8)           0         \n",
      "_________________________________________________________________\n",
      "conv2d_3 (Conv2D)            (None, 8, 8, 8)           1608      \n",
      "_________________________________________________________________\n",
      "leaky_re_lu_3 (LeakyReLU)    (None, 8, 8, 8)           0         \n",
      "_________________________________________________________________\n",
      "up_sampling2d_1 (UpSampling2 (None, 16, 16, 8)         0         \n",
      "_________________________________________________________________\n",
      "conv2d_4 (Conv2D)            (None, 16, 16, 32)        6432      \n",
      "_________________________________________________________________\n",
      "leaky_re_lu_4 (LeakyReLU)    (None, 16, 16, 32)        0         \n",
      "_________________________________________________________________\n",
      "up_sampling2d_2 (UpSampling2 (None, 32, 32, 32)        0         \n",
      "_________________________________________________________________\n",
      "conv2d_5 (Conv2D)            (None, 32, 32, 1)         289       \n",
      "=================================================================\n",
      "Total params: 15,569\n",
      "Trainable params: 15,569\n",
      "Non-trainable params: 0\n",
      "_________________________________________________________________\n"
     ]
    }
   ],
   "source": [
    "def autoencoder():\n",
    "    inputs = Input(shape=(32, 32, 1))\n",
    "    \n",
    "    # Encode\n",
    "    x = Conv2D(32, 5, padding='same')(inputs)\n",
    "    x = LeakyReLU(alpha=0.02)(x)\n",
    "    x = MaxPooling2D(padding='same')(x)\n",
    "    x = Conv2D(8, 5, padding='same')(x)\n",
    "    x = LeakyReLU(alpha=0.02)(x)\n",
    "    encoded = MaxPooling2D(padding='same')(x)  \n",
    "    \n",
    "    #Decode\n",
    "    x = Conv2D(8, 5, padding='same')(encoded)\n",
    "    x = LeakyReLU(alpha=0.02)(x)\n",
    "    x = UpSampling2D()(x)\n",
    "    x = Conv2D(32, 5, padding='same')(x) \n",
    "    x = LeakyReLU(alpha=0.02)(x)\n",
    "    x = UpSampling2D()(x)\n",
    "    \n",
    "    decoded = Conv2D(1, 3, activation='sigmoid', padding='same')(x)\n",
    "    \n",
    "    # Autoencoder\n",
    "    autoencoder = Model(inputs, decoded)\n",
    "    \n",
    "    # Compile\n",
    "    autoencoder.compile(optimizer='nadam', loss='binary_crossentropy')\n",
    "    \n",
    "    return autoencoder\n",
    "\n",
    "\n",
    "\n",
    "autoencoder = autoencoder()\n",
    "autoencoder.summary()"
   ]
  },
  {
   "cell_type": "code",
   "execution_count": 15,
   "metadata": {
    "scrolled": false
   },
   "outputs": [
    {
     "name": "stdout",
     "output_type": "stream",
     "text": [
      "Train on 1320 samples, validate on 165 samples\n",
      "Epoch 1/200\n",
      " - 6s - loss: 0.6649 - val_loss: 0.6667\n",
      "Epoch 2/200\n",
      " - 9s - loss: 0.6635 - val_loss: 0.6682\n",
      "Epoch 3/200\n",
      " - 7s - loss: 0.6572 - val_loss: 0.6453\n",
      "Epoch 4/200\n",
      " - 6s - loss: 0.6519 - val_loss: 0.6397\n",
      "Epoch 5/200\n",
      " - 6s - loss: 0.6514 - val_loss: 0.6404\n",
      "Epoch 6/200\n",
      " - 8s - loss: 0.6500 - val_loss: 0.6391\n",
      "Epoch 7/200\n",
      " - 7s - loss: 0.6460 - val_loss: 0.6405\n",
      "Epoch 8/200\n",
      " - 7s - loss: 0.6446 - val_loss: 0.6461\n",
      "Epoch 9/200\n",
      " - 7s - loss: 0.6460 - val_loss: 0.6387\n",
      "Epoch 10/200\n",
      " - 6s - loss: 0.6433 - val_loss: 0.6422\n",
      "Epoch 11/200\n",
      " - 7s - loss: 0.6443 - val_loss: 0.6384\n",
      "Epoch 12/200\n",
      " - 7s - loss: 0.6431 - val_loss: 0.6382\n",
      "Epoch 13/200\n",
      " - 8s - loss: 0.6422 - val_loss: 0.6474\n",
      "Epoch 14/200\n",
      " - 7s - loss: 0.6421 - val_loss: 0.6356\n",
      "Epoch 15/200\n",
      " - 6s - loss: 0.6399 - val_loss: 0.6333\n",
      "Epoch 16/200\n",
      " - 6s - loss: 0.6395 - val_loss: 0.6350\n",
      "Epoch 17/200\n",
      " - 7s - loss: 0.6409 - val_loss: 0.6332\n",
      "Epoch 18/200\n",
      " - 7s - loss: 0.6395 - val_loss: 0.6333\n",
      "Epoch 19/200\n",
      " - 7s - loss: 0.6383 - val_loss: 0.6374\n",
      "Epoch 20/200\n",
      " - 6s - loss: 0.6388 - val_loss: 0.6329\n",
      "Epoch 21/200\n",
      " - 7s - loss: 0.6389 - val_loss: 0.6328\n",
      "Epoch 22/200\n",
      " - 7s - loss: 0.6387 - val_loss: 0.6340\n",
      "Epoch 23/200\n",
      " - 7s - loss: 0.6393 - val_loss: 0.6334\n",
      "Epoch 24/200\n",
      " - 6s - loss: 0.6390 - val_loss: 0.6334\n",
      "Epoch 25/200\n",
      " - 10s - loss: 0.6395 - val_loss: 0.6332\n",
      "Epoch 26/200\n",
      " - 7s - loss: 0.6386 - val_loss: 0.6363\n",
      "Epoch 27/200\n",
      " - 7s - loss: 0.6387 - val_loss: 0.6329\n",
      "Epoch 28/200\n",
      " - 6s - loss: 0.6382 - val_loss: 0.6333\n",
      "Epoch 29/200\n",
      " - 6s - loss: 0.6384 - val_loss: 0.6334\n",
      "Epoch 30/200\n",
      " - 6s - loss: 0.6381 - val_loss: 0.6351\n",
      "Epoch 31/200\n",
      " - 6s - loss: 0.6385 - val_loss: 0.6337\n",
      "Epoch 32/200\n",
      " - 6s - loss: 0.6373 - val_loss: 0.6346\n",
      "Epoch 33/200\n",
      " - 6s - loss: 0.6375 - val_loss: 0.6332\n",
      "Epoch 34/200\n",
      " - 6s - loss: 0.6381 - val_loss: 0.6327\n",
      "Epoch 35/200\n",
      " - 7s - loss: 0.6385 - val_loss: 0.6329\n",
      "Epoch 36/200\n",
      " - 7s - loss: 0.6375 - val_loss: 0.6324\n",
      "Epoch 37/200\n",
      " - 6s - loss: 0.6375 - val_loss: 0.6324\n",
      "Epoch 38/200\n",
      " - 8s - loss: 0.6374 - val_loss: 0.6346\n",
      "Epoch 39/200\n",
      " - 8s - loss: 0.6380 - val_loss: 0.6332\n",
      "Epoch 40/200\n",
      " - 6s - loss: 0.6382 - val_loss: 0.6340\n",
      "Epoch 41/200\n",
      " - 6s - loss: 0.6371 - val_loss: 0.6322\n",
      "Epoch 42/200\n",
      " - 6s - loss: 0.6378 - val_loss: 0.6320\n",
      "Epoch 43/200\n",
      " - 6s - loss: 0.6368 - val_loss: 0.6355\n",
      "Epoch 44/200\n",
      " - 6s - loss: 0.6379 - val_loss: 0.6324\n",
      "Epoch 45/200\n",
      " - 6s - loss: 0.6364 - val_loss: 0.6318\n",
      "Epoch 46/200\n",
      " - 6s - loss: 0.6371 - val_loss: 0.6329\n",
      "Epoch 47/200\n",
      " - 6s - loss: 0.6371 - val_loss: 0.6337\n",
      "Epoch 48/200\n",
      " - 6s - loss: 0.6374 - val_loss: 0.6322\n",
      "Epoch 49/200\n",
      " - 6s - loss: 0.6365 - val_loss: 0.6355\n",
      "Epoch 50/200\n",
      " - 9s - loss: 0.6370 - val_loss: 0.6326\n",
      "Epoch 51/200\n",
      " - 12s - loss: 0.6373 - val_loss: 0.6331\n",
      "Epoch 52/200\n",
      " - 10s - loss: 0.6375 - val_loss: 0.6329\n",
      "Epoch 53/200\n",
      " - 7s - loss: 0.6368 - val_loss: 0.6318\n",
      "Epoch 54/200\n",
      " - 6s - loss: 0.6364 - val_loss: 0.6322\n",
      "Epoch 55/200\n",
      " - 6s - loss: 0.6365 - val_loss: 0.6316\n",
      "Epoch 56/200\n",
      " - 7s - loss: 0.6362 - val_loss: 0.6324\n",
      "Epoch 57/200\n",
      " - 6s - loss: 0.6369 - val_loss: 0.6342\n",
      "Epoch 58/200\n",
      " - 6s - loss: 0.6363 - val_loss: 0.6319\n",
      "Epoch 59/200\n",
      " - 6s - loss: 0.6365 - val_loss: 0.6346\n",
      "Epoch 60/200\n",
      " - 6s - loss: 0.6372 - val_loss: 0.6320\n",
      "Epoch 61/200\n",
      " - 6s - loss: 0.6371 - val_loss: 0.6336\n",
      "Epoch 62/200\n",
      " - 6s - loss: 0.6368 - val_loss: 0.6317\n",
      "Epoch 63/200\n",
      " - 7s - loss: 0.6361 - val_loss: 0.6340\n",
      "Epoch 64/200\n",
      " - 7s - loss: 0.6369 - val_loss: 0.6321\n",
      "Epoch 65/200\n",
      " - 7s - loss: 0.6366 - val_loss: 0.6321\n",
      "Epoch 66/200\n",
      " - 8s - loss: 0.6367 - val_loss: 0.6322\n",
      "Epoch 67/200\n",
      " - 7s - loss: 0.6368 - val_loss: 0.6323\n",
      "Epoch 68/200\n",
      " - 6s - loss: 0.6362 - val_loss: 0.6318\n",
      "Epoch 69/200\n",
      " - 7s - loss: 0.6367 - val_loss: 0.6315\n",
      "Epoch 70/200\n",
      " - 6s - loss: 0.6364 - val_loss: 0.6319\n",
      "Epoch 71/200\n",
      " - 8s - loss: 0.6358 - val_loss: 0.6361\n",
      "Epoch 72/200\n",
      " - 8s - loss: 0.6359 - val_loss: 0.6314\n",
      "Epoch 73/200\n",
      " - 6s - loss: 0.6363 - val_loss: 0.6326\n",
      "Epoch 74/200\n",
      " - 6s - loss: 0.6364 - val_loss: 0.6349\n",
      "Epoch 75/200\n",
      " - 6s - loss: 0.6365 - val_loss: 0.6329\n",
      "Epoch 76/200\n",
      " - 9s - loss: 0.6366 - val_loss: 0.6325\n",
      "Epoch 77/200\n",
      " - 6s - loss: 0.6361 - val_loss: 0.6313\n",
      "Epoch 78/200\n",
      " - 6s - loss: 0.6365 - val_loss: 0.6316\n",
      "Epoch 79/200\n",
      " - 6s - loss: 0.6364 - val_loss: 0.6318\n",
      "Epoch 80/200\n",
      " - 7s - loss: 0.6364 - val_loss: 0.6315\n",
      "Epoch 81/200\n",
      " - 7s - loss: 0.6361 - val_loss: 0.6314\n",
      "Epoch 82/200\n",
      " - 6s - loss: 0.6361 - val_loss: 0.6325\n",
      "Epoch 83/200\n",
      " - 6s - loss: 0.6360 - val_loss: 0.6313\n",
      "Epoch 84/200\n",
      " - 6s - loss: 0.6357 - val_loss: 0.6320\n",
      "Epoch 85/200\n",
      " - 6s - loss: 0.6365 - val_loss: 0.6314\n",
      "Epoch 86/200\n",
      " - 11s - loss: 0.6359 - val_loss: 0.6319\n",
      "Epoch 87/200\n",
      " - 11s - loss: 0.6364 - val_loss: 0.6325\n",
      "Epoch 88/200\n",
      " - 11s - loss: 0.6364 - val_loss: 0.6311\n",
      "Epoch 89/200\n",
      " - 10s - loss: 0.6355 - val_loss: 0.6328\n",
      "Epoch 90/200\n",
      " - 6s - loss: 0.6358 - val_loss: 0.6317\n",
      "Epoch 91/200\n",
      " - 6s - loss: 0.6362 - val_loss: 0.6312\n",
      "Epoch 92/200\n",
      " - 6s - loss: 0.6360 - val_loss: 0.6311\n",
      "Epoch 93/200\n",
      " - 7s - loss: 0.6359 - val_loss: 0.6317\n",
      "Epoch 94/200\n",
      " - 7s - loss: 0.6363 - val_loss: 0.6329\n",
      "Epoch 95/200\n",
      " - 7s - loss: 0.6359 - val_loss: 0.6314\n",
      "Epoch 96/200\n",
      " - 6s - loss: 0.6360 - val_loss: 0.6312\n",
      "Epoch 97/200\n",
      " - 6s - loss: 0.6360 - val_loss: 0.6322\n",
      "Epoch 98/200\n",
      " - 6s - loss: 0.6357 - val_loss: 0.6311\n",
      "Epoch 99/200\n",
      " - 6s - loss: 0.6353 - val_loss: 0.6315\n",
      "Epoch 100/200\n",
      " - 6s - loss: 0.6355 - val_loss: 0.6317\n",
      "Epoch 101/200\n",
      " - 6s - loss: 0.6360 - val_loss: 0.6358\n",
      "Epoch 102/200\n",
      " - 6s - loss: 0.6365 - val_loss: 0.6319\n",
      "Epoch 103/200\n",
      " - 6s - loss: 0.6361 - val_loss: 0.6312\n",
      "Epoch 104/200\n",
      " - 6s - loss: 0.6354 - val_loss: 0.6311\n",
      "Epoch 105/200\n",
      " - 8s - loss: 0.6353 - val_loss: 0.6348\n",
      "Epoch 106/200\n",
      " - 6s - loss: 0.6360 - val_loss: 0.6314\n",
      "Epoch 107/200\n",
      " - 9s - loss: 0.6358 - val_loss: 0.6319\n",
      "Epoch 108/200\n",
      " - 6s - loss: 0.6360 - val_loss: 0.6315\n",
      "Epoch 109/200\n",
      " - 6s - loss: 0.6356 - val_loss: 0.6323\n",
      "Epoch 110/200\n",
      " - 6s - loss: 0.6357 - val_loss: 0.6318\n",
      "Epoch 111/200\n",
      " - 6s - loss: 0.6358 - val_loss: 0.6319\n",
      "Epoch 112/200\n",
      " - 6s - loss: 0.6357 - val_loss: 0.6319\n",
      "Epoch 113/200\n",
      " - 8s - loss: 0.6355 - val_loss: 0.6310\n",
      "Epoch 114/200\n",
      " - 7s - loss: 0.6356 - val_loss: 0.6311\n",
      "Epoch 115/200\n",
      " - 6s - loss: 0.6356 - val_loss: 0.6309\n",
      "Epoch 116/200\n",
      " - 8s - loss: 0.6355 - val_loss: 0.6310\n",
      "Epoch 117/200\n",
      " - 8s - loss: 0.6353 - val_loss: 0.6335\n",
      "Epoch 118/200\n",
      " - 7s - loss: 0.6362 - val_loss: 0.6313\n",
      "Epoch 119/200\n",
      " - 10s - loss: 0.6355 - val_loss: 0.6361\n",
      "Epoch 120/200\n",
      " - 9s - loss: 0.6367 - val_loss: 0.6312\n",
      "Epoch 121/200\n",
      " - 6s - loss: 0.6360 - val_loss: 0.6311\n",
      "Epoch 122/200\n",
      " - 7s - loss: 0.6355 - val_loss: 0.6309\n",
      "Epoch 123/200\n",
      " - 7s - loss: 0.6354 - val_loss: 0.6338\n",
      "Epoch 124/200\n",
      " - 6s - loss: 0.6359 - val_loss: 0.6314\n",
      "Epoch 125/200\n",
      " - 6s - loss: 0.6357 - val_loss: 0.6315\n",
      "Epoch 126/200\n",
      " - 6s - loss: 0.6357 - val_loss: 0.6312\n",
      "Epoch 127/200\n",
      " - 6s - loss: 0.6359 - val_loss: 0.6332\n",
      "Epoch 128/200\n",
      " - 6s - loss: 0.6357 - val_loss: 0.6311\n",
      "Epoch 129/200\n",
      " - 6s - loss: 0.6357 - val_loss: 0.6313\n",
      "Epoch 130/200\n",
      " - 6s - loss: 0.6354 - val_loss: 0.6309\n",
      "Epoch 131/200\n",
      " - 6s - loss: 0.6359 - val_loss: 0.6312\n",
      "Epoch 132/200\n",
      " - 6s - loss: 0.6351 - val_loss: 0.6310\n",
      "Epoch 133/200\n",
      " - 7s - loss: 0.6357 - val_loss: 0.6334\n",
      "Epoch 134/200\n",
      " - 8s - loss: 0.6362 - val_loss: 0.6310\n",
      "Epoch 135/200\n",
      " - 6s - loss: 0.6352 - val_loss: 0.6310\n",
      "Epoch 136/200\n",
      " - 6s - loss: 0.6354 - val_loss: 0.6309\n",
      "Epoch 137/200\n",
      " - 6s - loss: 0.6355 - val_loss: 0.6311\n",
      "Epoch 138/200\n",
      " - 6s - loss: 0.6356 - val_loss: 0.6309\n",
      "Epoch 139/200\n",
      " - 6s - loss: 0.6358 - val_loss: 0.6310\n",
      "Epoch 140/200\n",
      " - 7s - loss: 0.6355 - val_loss: 0.6311\n",
      "Epoch 141/200\n",
      " - 7s - loss: 0.6354 - val_loss: 0.6318\n",
      "Epoch 142/200\n",
      " - 6s - loss: 0.6355 - val_loss: 0.6317\n",
      "Epoch 143/200\n",
      " - 6s - loss: 0.6360 - val_loss: 0.6311\n",
      "Epoch 144/200\n",
      " - 7s - loss: 0.6354 - val_loss: 0.6320\n",
      "Epoch 145/200\n",
      " - 8s - loss: 0.6354 - val_loss: 0.6314\n",
      "Epoch 146/200\n",
      " - 6s - loss: 0.6358 - val_loss: 0.6312\n",
      "Epoch 147/200\n",
      " - 7s - loss: 0.6353 - val_loss: 0.6313\n",
      "Epoch 148/200\n",
      " - 7s - loss: 0.6353 - val_loss: 0.6311\n",
      "Epoch 149/200\n",
      " - 6s - loss: 0.6354 - val_loss: 0.6309\n",
      "Epoch 150/200\n",
      " - 6s - loss: 0.6350 - val_loss: 0.6315\n",
      "Epoch 151/200\n",
      " - 6s - loss: 0.6358 - val_loss: 0.6309\n",
      "Epoch 152/200\n",
      " - 7s - loss: 0.6352 - val_loss: 0.6309\n",
      "Epoch 153/200\n",
      " - 6s - loss: 0.6359 - val_loss: 0.6328\n"
     ]
    },
    {
     "name": "stdout",
     "output_type": "stream",
     "text": [
      "Epoch 154/200\n",
      " - 6s - loss: 0.6360 - val_loss: 0.6309\n",
      "Epoch 155/200\n",
      " - 7s - loss: 0.6353 - val_loss: 0.6309\n",
      "Epoch 156/200\n",
      " - 8s - loss: 0.6352 - val_loss: 0.6315\n",
      "Epoch 157/200\n",
      " - 6s - loss: 0.6357 - val_loss: 0.6315\n",
      "Epoch 158/200\n",
      " - 6s - loss: 0.6352 - val_loss: 0.6310\n",
      "Epoch 159/200\n",
      " - 8s - loss: 0.6354 - val_loss: 0.6312\n",
      "Epoch 160/200\n",
      " - 6s - loss: 0.6352 - val_loss: 0.6309\n",
      "Epoch 161/200\n",
      " - 6s - loss: 0.6351 - val_loss: 0.6314\n",
      "Epoch 162/200\n",
      " - 6s - loss: 0.6360 - val_loss: 0.6310\n",
      "Epoch 163/200\n",
      " - 6s - loss: 0.6354 - val_loss: 0.6308\n",
      "Epoch 164/200\n",
      " - 6s - loss: 0.6351 - val_loss: 0.6309\n",
      "Epoch 165/200\n",
      " - 6s - loss: 0.6354 - val_loss: 0.6311\n",
      "Epoch 166/200\n",
      " - 6s - loss: 0.6352 - val_loss: 0.6308\n",
      "Epoch 167/200\n",
      " - 6s - loss: 0.6351 - val_loss: 0.6312\n",
      "Epoch 168/200\n",
      " - 6s - loss: 0.6356 - val_loss: 0.6308\n",
      "Epoch 169/200\n",
      " - 6s - loss: 0.6354 - val_loss: 0.6310\n",
      "Epoch 170/200\n",
      " - 6s - loss: 0.6354 - val_loss: 0.6311\n",
      "Epoch 171/200\n",
      " - 6s - loss: 0.6353 - val_loss: 0.6307\n",
      "Epoch 172/200\n",
      " - 6s - loss: 0.6352 - val_loss: 0.6307\n",
      "Epoch 173/200\n",
      " - 6s - loss: 0.6352 - val_loss: 0.6313\n",
      "Epoch 174/200\n",
      " - 6s - loss: 0.6353 - val_loss: 0.6320\n",
      "Epoch 175/200\n",
      " - 6s - loss: 0.6352 - val_loss: 0.6308\n",
      "Epoch 176/200\n",
      " - 6s - loss: 0.6350 - val_loss: 0.6318\n",
      "Epoch 177/200\n",
      " - 6s - loss: 0.6358 - val_loss: 0.6330\n",
      "Epoch 178/200\n",
      " - 6s - loss: 0.6357 - val_loss: 0.6309\n",
      "Epoch 179/200\n",
      " - 6s - loss: 0.6353 - val_loss: 0.6308\n",
      "Epoch 180/200\n",
      " - 6s - loss: 0.6350 - val_loss: 0.6319\n",
      "Epoch 181/200\n",
      " - 6s - loss: 0.6353 - val_loss: 0.6380\n",
      "Epoch 182/200\n",
      " - 6s - loss: 0.6357 - val_loss: 0.6310\n",
      "Epoch 183/200\n",
      " - 6s - loss: 0.6354 - val_loss: 0.6313\n",
      "Epoch 184/200\n",
      " - 6s - loss: 0.6351 - val_loss: 0.6308\n",
      "Epoch 185/200\n",
      " - 6s - loss: 0.6351 - val_loss: 0.6308\n",
      "Epoch 186/200\n",
      " - 6s - loss: 0.6354 - val_loss: 0.6307\n",
      "Epoch 187/200\n",
      " - 6s - loss: 0.6351 - val_loss: 0.6312\n",
      "Epoch 188/200\n",
      " - 6s - loss: 0.6352 - val_loss: 0.6334\n",
      "Epoch 189/200\n",
      " - 6s - loss: 0.6357 - val_loss: 0.6313\n",
      "Epoch 190/200\n",
      " - 6s - loss: 0.6352 - val_loss: 0.6324\n",
      "Epoch 191/200\n",
      " - 6s - loss: 0.6359 - val_loss: 0.6310\n",
      "Epoch 192/200\n",
      " - 6s - loss: 0.6349 - val_loss: 0.6308\n",
      "Epoch 193/200\n",
      " - 6s - loss: 0.6350 - val_loss: 0.6308\n",
      "Epoch 194/200\n",
      " - 6s - loss: 0.6350 - val_loss: 0.6313\n",
      "Epoch 195/200\n",
      " - 6s - loss: 0.6354 - val_loss: 0.6315\n",
      "Epoch 196/200\n",
      " - 6s - loss: 0.6352 - val_loss: 0.6310\n",
      "Epoch 197/200\n",
      " - 6s - loss: 0.6351 - val_loss: 0.6314\n",
      "Epoch 198/200\n",
      " - 6s - loss: 0.6355 - val_loss: 0.6311\n",
      "Epoch 199/200\n",
      " - 6s - loss: 0.6354 - val_loss: 0.6313\n",
      "Epoch 200/200\n",
      " - 6s - loss: 0.6350 - val_loss: 0.6312\n"
     ]
    }
   ],
   "source": [
    "autoencoder_history = autoencoder.fit(x_train, x_train, \n",
    "                                      epochs=200, batch_size=62, verbose=2,\n",
    "                                      validation_data=(x_valid, x_valid))"
   ]
  },
  {
   "cell_type": "code",
   "execution_count": 16,
   "metadata": {},
   "outputs": [],
   "source": [
    "x_test_decoded = autoencoder.predict(x_test)"
   ]
  },
  {
   "cell_type": "markdown",
   "metadata": {},
   "source": [
    "### Visualize Data"
   ]
  },
  {
   "cell_type": "code",
   "execution_count": 17,
   "metadata": {},
   "outputs": [
    {
     "data": {
      "image/png": "[encoded data removed]",
      "text/plain": [
       "<Figure size 1296x216 with 5 Axes>"
      ]
     },
     "metadata": {},
     "output_type": "display_data"
    }
   ],
   "source": [
    "fig, ax = plt.subplots(figsize=(18, 3), nrows=1, ncols=5, sharex=True, sharey=True,)\n",
    "ax = ax.flatten()\n",
    "for i in range(5):\n",
    "    image = x_test[i*10].reshape(32,32)\n",
    "    ax[i].imshow(image, cmap=cm.bone)\n",
    "\n",
    "ax[0].set_xticks([])\n",
    "ax[0].set_yticks([])\n",
    "plt.tight_layout()\n",
    "plt.gcf()\n",
    "ax[2].set_title('Examples of original grayscaled Hand Written letters', fontsize=25);"
   ]
  },
  {
   "cell_type": "code",
   "execution_count": 18,
   "metadata": {},
   "outputs": [
    {
     "data": {
      "image/png": "[encoded data removed]",
      "text/plain": [
       "<Figure size 1296x216 with 5 Axes>"
      ]
     },
     "metadata": {},
     "output_type": "display_data"
    }
   ],
   "source": [
    "fig, ax = plt.subplots(figsize=(18, 3), nrows=1, ncols=5, sharex=True, sharey=True,)\n",
    "ax = ax.flatten()\n",
    "for i in range(5):\n",
    "    image = x_test_decoded[i*10].reshape(32,32)\n",
    "    ax[i].imshow(image, cmap=cm.bone)\n",
    "\n",
    "ax[0].set_xticks([])\n",
    "ax[0].set_yticks([])\n",
    "plt.tight_layout()\n",
    "plt.gcf()\n",
    "ax[2].set_title('Examples of decoded grayscaled Hand Written letters', fontsize=25);"
   ]
  }
 ],
 "metadata": {
  "kernelspec": {
   "display_name": "Python 3",
   "language": "python",
   "name": "python3"
  },
  "language_info": {
   "codemirror_mode": {
    "name": "ipython",
    "version": 3
   },
   "file_extension": ".py",
   "mimetype": "text/x-python",
   "name": "python",
   "nbconvert_exporter": "python",
   "pygments_lexer": "ipython3",
   "version": "3.6.5"
  }
 },
 "nbformat": 4,
 "nbformat_minor": 2
}
